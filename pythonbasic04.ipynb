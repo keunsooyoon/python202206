{
 "cells": [
  {
   "cell_type": "code",
   "execution_count": 1,
   "metadata": {},
   "outputs": [],
   "source": [
    "# 파일 읽고 쓰기\n",
    "\n",
    "\n",
    "\n",
    "# 파일 생성\n",
    "f = open(\"새파일.txt\",\"w\")   # 새로운 파일 생성 \n",
    "f.close()                   # 항상 사용 후 닫아 준다. \n",
    "\n",
    "# 파일객체 = open(\"파일명\",\"열기모드\")\n",
    "\n",
    "# 열기 모드 w - 쓰기모드, r - 읽기모드, a - 추가모드"
   ]
  },
  {
   "cell_type": "code",
   "execution_count": 4,
   "metadata": {},
   "outputs": [],
   "source": [
    "# 파일 생성 후 데이터 넣고 닫기\n",
    "\n",
    "f = open(\"exam.txt\",\"w\")  # 파일 생성\n",
    "\n",
    "for i in range(1, 11):\n",
    "    f.write(f\"line {i} \\n\")\n",
    "\n",
    "f.close()     # 항상 사용 후 닫아 준다. "
   ]
  },
  {
   "cell_type": "code",
   "execution_count": 5,
   "metadata": {},
   "outputs": [
    {
     "name": "stdout",
     "output_type": "stream",
     "text": [
      "line 1 \n",
      "\n"
     ]
    }
   ],
   "source": [
    "# 파일을 열어서 데이터 읽어오고 닫기\n",
    "# 한줄만 읽기\n",
    "f = open(\"exam.txt\", \"r\")\n",
    "\n",
    "line = f.readline()\n",
    "print(line)\n",
    "\n",
    "f.close()"
   ]
  },
  {
   "cell_type": "code",
   "execution_count": 7,
   "metadata": {},
   "outputs": [
    {
     "name": "stdout",
     "output_type": "stream",
     "text": [
      "line 1 \n",
      "\n",
      "line 2 \n",
      "\n",
      "line 3 \n",
      "\n",
      "line 4 \n",
      "\n",
      "line 5 \n",
      "\n",
      "line 6 \n",
      "\n",
      "line 7 \n",
      "\n",
      "line 8 \n",
      "\n",
      "line 9 \n",
      "\n",
      "line 10 \n",
      "\n"
     ]
    }
   ],
   "source": [
    "# 모든 줄 다 읽어오기\n",
    "\n",
    "f = open(\"exam.txt\",\"r\")\n",
    "\n",
    "while True:\n",
    "    line = f.readline()\n",
    "    if not line:break\n",
    "    print(line)\n",
    "\n",
    "f.close()"
   ]
  },
  {
   "cell_type": "code",
   "execution_count": 9,
   "metadata": {},
   "outputs": [],
   "source": [
    "# f = open(\"test.txt\",\"w\")\n",
    "# f.close()\n",
    "\n",
    "# 지금까지 사용한 위의 문법은 사용 후 항상 닫아 줘야 했다. \n",
    "\n",
    "with open(\"test.txt\",\"w\") as f:\n",
    "    f.write(\"Hi there...\")\n",
    "    \n",
    "# with  문을 사용하면 close를 쓰지 않아도 된다. \n",
    "# with  문을 벗어나는 순간 객체가 자동으로 close된다. \n"
   ]
  },
  {
   "cell_type": "code",
   "execution_count": null,
   "metadata": {},
   "outputs": [],
   "source": [
    "# 상기 내용은 파일 입출력의 가장 기본적인 내용이고\n",
    "# 실제 데이터 분석시에는 pandas를 사용하여 엑셀, 텍스트\n",
    "# 등을 읽어오고 저장하는 방식을 주로 사용하게 될것이다. "
   ]
  },
  {
   "cell_type": "code",
   "execution_count": null,
   "metadata": {},
   "outputs": [],
   "source": [
    "# 모듈  module   \n",
    "\n",
    "# 모듈을 직접 만들어서 사용할수는 있지만 대부분 모듈을 가져다가 사용하게 된다. 하지만 직접 만들어보면 이해도를 높일 수 있으므로 제작해 보자. \n",
    "\n",
    "# 모듈은 함수, 변수 등을 모아 놓은 파일이다. 모듈은 다른 파이썬 파일에서 불러와서 사용할수 있게 만든 파이썬 파일이다. 파이썬으로 프로그래밍을 할때 굉장히 많이 모듈을 불러와 사용하게 된다. \n",
    "\n",
    "# 라이브러리는 모듈들의 모음이다. \n",
    "# 함수/변수/클래스 -> 모듈(.py) -> 라이브러리\n",
    "\n"
   ]
  },
  {
   "cell_type": "code",
   "execution_count": 11,
   "metadata": {},
   "outputs": [
    {
     "name": "stdout",
     "output_type": "stream",
     "text": [
      "7\n",
      "2\n"
     ]
    },
    {
     "data": {
      "text/plain": [
       "7"
      ]
     },
     "execution_count": 11,
     "metadata": {},
     "output_type": "execute_result"
    }
   ],
   "source": [
    "import mod1  # 모듈 읽어오기, 확장자는 생략한다. \n",
    "\n",
    "print(mod1.add(3,4))\n",
    "print(mod1.sub(4,2))\n",
    "\n",
    "# 모듈에 있는 함수를 가져다가 쓸 때마다 '모듈명.함수명' 을 쓰기는 길다. \n",
    "\n"
   ]
  },
  {
   "cell_type": "code",
   "execution_count": 12,
   "metadata": {},
   "outputs": [
    {
     "data": {
      "text/plain": [
       "7"
      ]
     },
     "execution_count": 12,
     "metadata": {},
     "output_type": "execute_result"
    }
   ],
   "source": [
    "# import mod1    <- 사용할때마다 귀찮게 모듈명을 붙이기 싫으면\n",
    "\n",
    "from mod1 import add  # from 모듈명 import 함수명\n",
    "\n",
    "add(3,4)   # 모듈명 없이 바로 함수명을 사용할수 있다. "
   ]
  },
  {
   "cell_type": "code",
   "execution_count": null,
   "metadata": {},
   "outputs": [],
   "source": []
  },
  {
   "cell_type": "code",
   "execution_count": 13,
   "metadata": {},
   "outputs": [
    {
     "data": {
      "text/plain": [
       "2"
      ]
     },
     "execution_count": 13,
     "metadata": {},
     "output_type": "execute_result"
    }
   ],
   "source": [
    "from mod1 import add, sub\n",
    "\n",
    "sub(4,2)   # 모듈명 없이 바로 함수명을 사용할수 있다. "
   ]
  },
  {
   "cell_type": "code",
   "execution_count": 15,
   "metadata": {},
   "outputs": [
    {
     "data": {
      "text/plain": [
       "2"
      ]
     },
     "execution_count": 15,
     "metadata": {},
     "output_type": "execute_result"
    }
   ],
   "source": [
    "from mod1 import * #사용할 함수가 많으면 *을 사용한다. \n",
    "sub(4,2) \n"
   ]
  },
  {
   "cell_type": "code",
   "execution_count": 19,
   "metadata": {},
   "outputs": [],
   "source": [
    "import pandas as pd  # 모듈이름을 줄여서 사용\n",
    "import numpy as np\n",
    "import matplotlib as plt\n",
    "import seaborn as sns\n",
    "\n",
    "# 설치가 안된 모듈은 아래의 명령어로 설치한 후 import 한다. \n",
    "\n",
    "#!pip install 모듈명\n"
   ]
  },
  {
   "cell_type": "code",
   "execution_count": 22,
   "metadata": {},
   "outputs": [],
   "source": [
    "# 예외 처리\n",
    "\n",
    "# 오류 없는 프로그램은 없다. 오류를 적절하게 처리해 주는 방법이 필요하다. \n",
    "\n",
    "# 4 / 0\n",
    "\n",
    "# 0으로 나눌 경우에는 언제나 오류가 즉 예외가 발생한다. \n",
    "\n",
    "# a = [1,2,3]\n",
    "# a[3]\n",
    "\n",
    "# 없는 인덱스를 지정할 경우 오류가 즉 예외가 발생한다. \n",
    "\n"
   ]
  },
  {
   "cell_type": "code",
   "execution_count": 23,
   "metadata": {},
   "outputs": [
    {
     "name": "stdout",
     "output_type": "stream",
     "text": [
      "에러가 발생했습니다. \n"
     ]
    }
   ],
   "source": [
    "# try except\n",
    "\n",
    "try:\n",
    "    4 / 0  # 에러 발생이 될수도 있는 구문\n",
    "except:\n",
    "    print('에러가 발생했습니다. ')\n"
   ]
  },
  {
   "cell_type": "code",
   "execution_count": 24,
   "metadata": {},
   "outputs": [
    {
     "name": "stdout",
     "output_type": "stream",
     "text": [
      "에러가 발생했습니다. \n",
      "언제나 마지막에 실행하게 되는 행\n"
     ]
    }
   ],
   "source": [
    "# try except finally\n",
    "\n",
    "try:\n",
    "    4 / 0  # 에러 발생이 될수도 있는 구문\n",
    "except:\n",
    "    print('에러가 발생했습니다. ')\n",
    "finally:\n",
    "    print('언제나 마지막에 실행하게 되는 행')"
   ]
  },
  {
   "cell_type": "code",
   "execution_count": 25,
   "metadata": {},
   "outputs": [
    {
     "name": "stdout",
     "output_type": "stream",
     "text": [
      "list index out of range\n"
     ]
    }
   ],
   "source": [
    "try:\n",
    "    a = [1,2]\n",
    "    print(a[3])  # 예외 발생\n",
    "    4/0          # 예외 발생 을 하게 되지만 그 전에 위에서 예외 처리가 이루어진다. 아예 실행 되지 않고 따라서 처리도 되지 않는다. \n",
    "except ZeroDivisionError as e: # as e 는 에러발생 메세지를 e 로 받는다\n",
    "    print(e)\n",
    "except IndexError as e:\n",
    "    print(e)\n"
   ]
  },
  {
   "cell_type": "code",
   "execution_count": 31,
   "metadata": {},
   "outputs": [
    {
     "name": "stdout",
     "output_type": "stream",
     "text": [
      "당신의 나이는 20이군요 ㅋㅋ\n",
      "프로그램을 종료합니다. \n"
     ]
    }
   ],
   "source": [
    "# try except else finally\n",
    "# else와 finally 는 생략 가능 \n",
    "\n",
    "try:\n",
    "    age = int(input('나이를 입력하세요: '))\n",
    "except:  # 오류가 발생할 경우만\n",
    "    print('나이는 숫자로만 입력하세요')\n",
    "else:    # 오류가 발생하지 않는 경우만\n",
    "    print(f'당신의 나이는 {age}이군요 ㅋㅋ')\n",
    "finally: # 언제나 \n",
    "    print('프로그램을 종료합니다. ')"
   ]
  },
  {
   "cell_type": "code",
   "execution_count": 33,
   "metadata": {},
   "outputs": [
    {
     "ename": "NotImplementedError",
     "evalue": "",
     "output_type": "error",
     "traceback": [
      "\u001b[1;31m---------------------------------------------------------------------------\u001b[0m",
      "\u001b[1;31mNotImplementedError\u001b[0m                       Traceback (most recent call last)",
      "\u001b[1;32m<ipython-input-33-b1773417c3f4>\u001b[0m in \u001b[0;36m<module>\u001b[1;34m\u001b[0m\n\u001b[0;32m      8\u001b[0m \u001b[0ma\u001b[0m \u001b[1;33m=\u001b[0m \u001b[0mBird\u001b[0m\u001b[1;33m(\u001b[0m\u001b[1;33m)\u001b[0m\u001b[1;33m\u001b[0m\u001b[1;33m\u001b[0m\u001b[0m\n\u001b[0;32m      9\u001b[0m \u001b[1;33m\u001b[0m\u001b[0m\n\u001b[1;32m---> 10\u001b[1;33m \u001b[0ma\u001b[0m\u001b[1;33m.\u001b[0m\u001b[0mfly\u001b[0m\u001b[1;33m(\u001b[0m\u001b[1;33m)\u001b[0m\u001b[1;33m\u001b[0m\u001b[1;33m\u001b[0m\u001b[0m\n\u001b[0m",
      "\u001b[1;32m<ipython-input-33-b1773417c3f4>\u001b[0m in \u001b[0;36mfly\u001b[1;34m(self)\u001b[0m\n\u001b[0;32m      3\u001b[0m \u001b[1;32mclass\u001b[0m \u001b[0mBird\u001b[0m\u001b[1;33m:\u001b[0m\u001b[1;33m\u001b[0m\u001b[1;33m\u001b[0m\u001b[0m\n\u001b[0;32m      4\u001b[0m     \u001b[1;32mdef\u001b[0m \u001b[0mfly\u001b[0m\u001b[1;33m(\u001b[0m\u001b[0mself\u001b[0m\u001b[1;33m)\u001b[0m\u001b[1;33m:\u001b[0m\u001b[1;33m\u001b[0m\u001b[1;33m\u001b[0m\u001b[0m\n\u001b[1;32m----> 5\u001b[1;33m         \u001b[1;32mraise\u001b[0m \u001b[0mNotImplementedError\u001b[0m\u001b[1;33m\u001b[0m\u001b[1;33m\u001b[0m\u001b[0m\n\u001b[0m\u001b[0;32m      6\u001b[0m         \u001b[1;31m# 에러 발생이 아닌 상황에서 에러를 강제로 발생\u001b[0m\u001b[1;33m\u001b[0m\u001b[1;33m\u001b[0m\u001b[1;33m\u001b[0m\u001b[0m\n\u001b[0;32m      7\u001b[0m \u001b[1;33m\u001b[0m\u001b[0m\n",
      "\u001b[1;31mNotImplementedError\u001b[0m: "
     ]
    }
   ],
   "source": [
    "# 오류 강제 발생\n",
    "\n",
    "class Bird:\n",
    "    def fly(self):\n",
    "        raise NotImplementedError   \n",
    "        # 에러 발생이 아닌 상황에서 에러를 강제로 발생\n",
    "\n",
    "a = Bird()\n",
    "\n",
    "a.fly()\n",
    "\n",
    "# 함수의 구현을 당장 지금이 아닌 나중에 구현하고자 할때\n",
    "# 임시로 에러를 강제로 발생하게 하여 까먹지 않고 나중에 \n",
    "# 만들게 할수 있다. "
   ]
  }
 ],
 "metadata": {
  "interpreter": {
   "hash": "52634da84371cba311ea128a5ea7cdc41ff074b781779e754b270ff9f8153cee"
  },
  "kernelspec": {
   "display_name": "Python 3.6.8 64-bit",
   "language": "python",
   "name": "python3"
  },
  "language_info": {
   "codemirror_mode": {
    "name": "ipython",
    "version": 3
   },
   "file_extension": ".py",
   "mimetype": "text/x-python",
   "name": "python",
   "nbconvert_exporter": "python",
   "pygments_lexer": "ipython3",
   "version": "3.6.8"
  },
  "orig_nbformat": 4
 },
 "nbformat": 4,
 "nbformat_minor": 2
}
