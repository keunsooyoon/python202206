{
 "cells": [
  {
   "cell_type": "code",
   "execution_count": 1,
   "metadata": {},
   "outputs": [],
   "source": [
    "# 파일 읽고 쓰기\n",
    "\n",
    "\n",
    "\n",
    "# 파일 생성\n",
    "f = open(\"새파일.txt\",\"w\")   # 새로운 파일 생성 \n",
    "f.close()                   # 항상 사용 후 닫아 준다. \n",
    "\n",
    "# 파일객체 = open(\"파일명\",\"열기모드\")\n",
    "\n",
    "# 열기 모드 w - 쓰기모드, r - 읽기모드, a - 추가모드"
   ]
  },
  {
   "cell_type": "code",
   "execution_count": 4,
   "metadata": {},
   "outputs": [],
   "source": [
    "# 파일 생성 후 데이터 넣고 닫기\n",
    "\n",
    "f = open(\"exam.txt\",\"w\")  # 파일 생성\n",
    "\n",
    "for i in range(1, 11):\n",
    "    f.write(f\"line {i} \\n\")\n",
    "\n",
    "f.close()     # 항상 사용 후 닫아 준다. "
   ]
  },
  {
   "cell_type": "code",
   "execution_count": 5,
   "metadata": {},
   "outputs": [
    {
     "name": "stdout",
     "output_type": "stream",
     "text": [
      "line 1 \n",
      "\n"
     ]
    }
   ],
   "source": [
    "# 파일을 열어서 데이터 읽어오고 닫기\n",
    "# 한줄만 읽기\n",
    "f = open(\"exam.txt\", \"r\")\n",
    "\n",
    "line = f.readline()\n",
    "print(line)\n",
    "\n",
    "f.close()"
   ]
  },
  {
   "cell_type": "code",
   "execution_count": 7,
   "metadata": {},
   "outputs": [
    {
     "name": "stdout",
     "output_type": "stream",
     "text": [
      "line 1 \n",
      "\n",
      "line 2 \n",
      "\n",
      "line 3 \n",
      "\n",
      "line 4 \n",
      "\n",
      "line 5 \n",
      "\n",
      "line 6 \n",
      "\n",
      "line 7 \n",
      "\n",
      "line 8 \n",
      "\n",
      "line 9 \n",
      "\n",
      "line 10 \n",
      "\n"
     ]
    }
   ],
   "source": [
    "# 모든 줄 다 읽어오기\n",
    "\n",
    "f = open(\"exam.txt\",\"r\")\n",
    "\n",
    "while True:\n",
    "    line = f.readline()\n",
    "    if not line:break\n",
    "    print(line)\n",
    "\n",
    "f.close()"
   ]
  },
  {
   "cell_type": "code",
   "execution_count": 9,
   "metadata": {},
   "outputs": [],
   "source": [
    "# f = open(\"test.txt\",\"w\")\n",
    "# f.close()\n",
    "\n",
    "# 지금까지 사용한 위의 문법은 사용 후 항상 닫아 줘야 했다. \n",
    "\n",
    "with open(\"test.txt\",\"w\") as f:\n",
    "    f.write(\"Hi there...\")\n",
    "    \n",
    "# with  문을 사용하면 close를 쓰지 않아도 된다. \n",
    "# with  문을 벗어나는 순간 객체가 자동으로 close된다. \n"
   ]
  },
  {
   "cell_type": "code",
   "execution_count": null,
   "metadata": {},
   "outputs": [],
   "source": [
    "# 상기 내용은 파일 입출력의 가장 기본적인 내용이고\n",
    "# 실제 데이터 분석시에는 pandas를 사용하여 엑셀, 텍스트\n",
    "# 등을 읽어오고 저장하는 방식을 주로 사용하게 될것이다. "
   ]
  },
  {
   "cell_type": "code",
   "execution_count": null,
   "metadata": {},
   "outputs": [],
   "source": [
    "# 모듈  module   \n",
    "\n",
    "# 모듈을 직접 만들어서 사용할수는 있지만 대부분 모듈을 가져다가 사용하게 된다. 하지만 직접 만들어보면 이해도를 높일 수 있으므로 제작해 보자. \n",
    "\n",
    "# 모듈은 함수, 변수 등을 모아 놓은 파일이다. 모듈은 다른 파이썬 파일에서 불러와서 사용할수 있게 만든 파이썬 파일이다. 파이썬으로 프로그래밍을 할때 굉장히 많이 모듈을 불러와 사용하게 된다. \n",
    "\n",
    "# 라이브러리는 모듈들의 모음이다. \n",
    "# 함수/변수/클래스 -> 모듈(.py) -> 라이브러리\n",
    "\n"
   ]
  },
  {
   "cell_type": "code",
   "execution_count": 11,
   "metadata": {},
   "outputs": [
    {
     "name": "stdout",
     "output_type": "stream",
     "text": [
      "7\n",
      "2\n"
     ]
    },
    {
     "data": {
      "text/plain": [
       "7"
      ]
     },
     "execution_count": 11,
     "metadata": {},
     "output_type": "execute_result"
    }
   ],
   "source": [
    "import mod1  # 모듈 읽어오기, 확장자는 생략한다. \n",
    "\n",
    "print(mod1.add(3,4))\n",
    "print(mod1.sub(4,2))\n",
    "\n",
    "# 모듈에 있는 함수를 가져다가 쓸 때마다 '모듈명.함수명' 을 쓰기는 길다. \n",
    "\n"
   ]
  },
  {
   "cell_type": "code",
   "execution_count": 12,
   "metadata": {},
   "outputs": [
    {
     "data": {
      "text/plain": [
       "7"
      ]
     },
     "execution_count": 12,
     "metadata": {},
     "output_type": "execute_result"
    }
   ],
   "source": [
    "# import mod1    <- 사용할때마다 귀찮게 모듈명을 붙이기 싫으면\n",
    "\n",
    "from mod1 import add  # from 모듈명 import 함수명\n",
    "\n",
    "add(3,4)   # 모듈명 없이 바로 함수명을 사용할수 있다. "
   ]
  },
  {
   "cell_type": "code",
   "execution_count": null,
   "metadata": {},
   "outputs": [],
   "source": []
  },
  {
   "cell_type": "code",
   "execution_count": 13,
   "metadata": {},
   "outputs": [
    {
     "data": {
      "text/plain": [
       "2"
      ]
     },
     "execution_count": 13,
     "metadata": {},
     "output_type": "execute_result"
    }
   ],
   "source": [
    "from mod1 import add, sub\n",
    "\n",
    "sub(4,2)   # 모듈명 없이 바로 함수명을 사용할수 있다. "
   ]
  },
  {
   "cell_type": "code",
   "execution_count": 15,
   "metadata": {},
   "outputs": [
    {
     "data": {
      "text/plain": [
       "2"
      ]
     },
     "execution_count": 15,
     "metadata": {},
     "output_type": "execute_result"
    }
   ],
   "source": [
    "from mod1 import * #사용할 함수가 많으면 *을 사용한다. \n",
    "sub(4,2) \n"
   ]
  },
  {
   "cell_type": "code",
   "execution_count": 19,
   "metadata": {},
   "outputs": [],
   "source": [
    "import pandas as pd  # 모듈이름을 줄여서 사용\n",
    "import numpy as np\n",
    "import matplotlib as plt\n",
    "import seaborn as sns\n",
    "\n",
    "# 설치가 안된 모듈은 아래의 명령어로 설치한 후 import 한다. \n",
    "\n",
    "#!pip install 모듈명\n"
   ]
  },
  {
   "cell_type": "code",
   "execution_count": 22,
   "metadata": {},
   "outputs": [],
   "source": [
    "# 예외 처리\n",
    "\n",
    "# 오류 없는 프로그램은 없다. 오류를 적절하게 처리해 주는 방법이 필요하다. \n",
    "\n",
    "# 4 / 0\n",
    "\n",
    "# 0으로 나눌 경우에는 언제나 오류가 즉 예외가 발생한다. \n",
    "\n",
    "# a = [1,2,3]\n",
    "# a[3]\n",
    "\n",
    "# 없는 인덱스를 지정할 경우 오류가 즉 예외가 발생한다. \n",
    "\n"
   ]
  },
  {
   "cell_type": "code",
   "execution_count": 23,
   "metadata": {},
   "outputs": [
    {
     "name": "stdout",
     "output_type": "stream",
     "text": [
      "에러가 발생했습니다. \n"
     ]
    }
   ],
   "source": [
    "# try except\n",
    "\n",
    "try:\n",
    "    4 / 0  # 에러 발생이 될수도 있는 구문\n",
    "except:\n",
    "    print('에러가 발생했습니다. ')\n"
   ]
  },
  {
   "cell_type": "code",
   "execution_count": 24,
   "metadata": {},
   "outputs": [
    {
     "name": "stdout",
     "output_type": "stream",
     "text": [
      "에러가 발생했습니다. \n",
      "언제나 마지막에 실행하게 되는 행\n"
     ]
    }
   ],
   "source": [
    "# try except finally\n",
    "\n",
    "try:\n",
    "    4 / 0  # 에러 발생이 될수도 있는 구문\n",
    "except:\n",
    "    print('에러가 발생했습니다. ')\n",
    "finally:\n",
    "    print('언제나 마지막에 실행하게 되는 행')"
   ]
  },
  {
   "cell_type": "code",
   "execution_count": 25,
   "metadata": {},
   "outputs": [
    {
     "name": "stdout",
     "output_type": "stream",
     "text": [
      "list index out of range\n"
     ]
    }
   ],
   "source": [
    "try:\n",
    "    a = [1,2]\n",
    "    print(a[3])  # 예외 발생\n",
    "    4/0          # 예외 발생 을 하게 되지만 그 전에 위에서 예외 처리가 이루어진다. 아예 실행 되지 않고 따라서 처리도 되지 않는다. \n",
    "except ZeroDivisionError as e: # as e 는 에러발생 메세지를 e 로 받는다\n",
    "    print(e)\n",
    "except IndexError as e:\n",
    "    print(e)\n"
   ]
  },
  {
   "cell_type": "code",
   "execution_count": 31,
   "metadata": {},
   "outputs": [
    {
     "name": "stdout",
     "output_type": "stream",
     "text": [
      "당신의 나이는 20이군요 ㅋㅋ\n",
      "프로그램을 종료합니다. \n"
     ]
    }
   ],
   "source": [
    "# try except else finally\n",
    "# else와 finally 는 생략 가능 \n",
    "\n",
    "try:\n",
    "    age = int(input('나이를 입력하세요: '))\n",
    "except:  # 오류가 발생할 경우만\n",
    "    print('나이는 숫자로만 입력하세요')\n",
    "else:    # 오류가 발생하지 않는 경우만\n",
    "    print(f'당신의 나이는 {age}이군요 ㅋㅋ')\n",
    "finally: # 언제나 \n",
    "    print('프로그램을 종료합니다. ')"
   ]
  },
  {
   "cell_type": "code",
   "execution_count": 33,
   "metadata": {},
   "outputs": [
    {
     "ename": "NotImplementedError",
     "evalue": "",
     "output_type": "error",
     "traceback": [
      "\u001b[1;31m---------------------------------------------------------------------------\u001b[0m",
      "\u001b[1;31mNotImplementedError\u001b[0m                       Traceback (most recent call last)",
      "\u001b[1;32m<ipython-input-33-b1773417c3f4>\u001b[0m in \u001b[0;36m<module>\u001b[1;34m\u001b[0m\n\u001b[0;32m      8\u001b[0m \u001b[0ma\u001b[0m \u001b[1;33m=\u001b[0m \u001b[0mBird\u001b[0m\u001b[1;33m(\u001b[0m\u001b[1;33m)\u001b[0m\u001b[1;33m\u001b[0m\u001b[1;33m\u001b[0m\u001b[0m\n\u001b[0;32m      9\u001b[0m \u001b[1;33m\u001b[0m\u001b[0m\n\u001b[1;32m---> 10\u001b[1;33m \u001b[0ma\u001b[0m\u001b[1;33m.\u001b[0m\u001b[0mfly\u001b[0m\u001b[1;33m(\u001b[0m\u001b[1;33m)\u001b[0m\u001b[1;33m\u001b[0m\u001b[1;33m\u001b[0m\u001b[0m\n\u001b[0m",
      "\u001b[1;32m<ipython-input-33-b1773417c3f4>\u001b[0m in \u001b[0;36mfly\u001b[1;34m(self)\u001b[0m\n\u001b[0;32m      3\u001b[0m \u001b[1;32mclass\u001b[0m \u001b[0mBird\u001b[0m\u001b[1;33m:\u001b[0m\u001b[1;33m\u001b[0m\u001b[1;33m\u001b[0m\u001b[0m\n\u001b[0;32m      4\u001b[0m     \u001b[1;32mdef\u001b[0m \u001b[0mfly\u001b[0m\u001b[1;33m(\u001b[0m\u001b[0mself\u001b[0m\u001b[1;33m)\u001b[0m\u001b[1;33m:\u001b[0m\u001b[1;33m\u001b[0m\u001b[1;33m\u001b[0m\u001b[0m\n\u001b[1;32m----> 5\u001b[1;33m         \u001b[1;32mraise\u001b[0m \u001b[0mNotImplementedError\u001b[0m\u001b[1;33m\u001b[0m\u001b[1;33m\u001b[0m\u001b[0m\n\u001b[0m\u001b[0;32m      6\u001b[0m         \u001b[1;31m# 에러 발생이 아닌 상황에서 에러를 강제로 발생\u001b[0m\u001b[1;33m\u001b[0m\u001b[1;33m\u001b[0m\u001b[1;33m\u001b[0m\u001b[0m\n\u001b[0;32m      7\u001b[0m \u001b[1;33m\u001b[0m\u001b[0m\n",
      "\u001b[1;31mNotImplementedError\u001b[0m: "
     ]
    }
   ],
   "source": [
    "# 오류 강제 발생\n",
    "\n",
    "class Bird:\n",
    "    def fly(self):\n",
    "        raise NotImplementedError   \n",
    "        # 에러 발생이 아닌 상황에서 에러를 강제로 발생\n",
    "\n",
    "a = Bird()\n",
    "\n",
    "a.fly()\n",
    "\n",
    "# 함수의 구현을 당장 지금이 아닌 나중에 구현하고자 할때\n",
    "# 임시로 에러를 강제로 발생하게 하여 까먹지 않고 나중에 \n",
    "# 만들게 할수 있다. "
   ]
  },
  {
   "cell_type": "code",
   "execution_count": 34,
   "metadata": {},
   "outputs": [],
   "source": [
    "# 크롤링 crawling  인터넷에서 데이터를 긁어와서 분석하는 방법\n",
    "\n",
    "# 3대 음원 차트 크롤링 - 벅스 멜론 지니\n",
    "# 네이버 영화 순위, 날씨 \n",
    "\n",
    "# 크롤링을 파이썬이 설치 되지 않은 컴에서도 실행 가능하도록\n",
    "# 윈도우 앱으로 만들기\n",
    "# 먼저 코인 가격 조회기 윈도우 앱만들기 -> 차트앱\n"
   ]
  },
  {
   "cell_type": "code",
   "execution_count": 35,
   "metadata": {},
   "outputs": [],
   "source": [
    "\n",
    "#크롤링 기본\n",
    "\n",
    "import requests                     # 파이썬으로 인터넷을 통해 웹페이지 연결 모듈\n",
    "from bs4 import BeautifulSoup as bs # 가져온 웹페이지를 분석하기 용이하게 정제 모듈 (필수)\n",
    "import pandas as pd                 # 데이터 분석 모듈"
   ]
  },
  {
   "cell_type": "code",
   "execution_count": 38,
   "metadata": {},
   "outputs": [],
   "source": [
    "response = requests.get('https://www.naver.com')  # 네이버에 연결하여 웹페이지 소스를 가져온다. \n",
    "#response.text"
   ]
  },
  {
   "cell_type": "code",
   "execution_count": 41,
   "metadata": {},
   "outputs": [],
   "source": [
    "response = requests.get('https://music.bugs.co.kr/chart')  # 분석할 웹 페이지 읽어오기\n",
    "soup = bs(response.text)                                   # 가져온 소스에 bs 정제\n",
    "# soup\n",
    "import requests                     # 파이썬으로 인터넷을 통해 웹페이지 연결 모듈\n",
    "from bs4 import BeautifulSoup as bs # 가져온 웹페이지를 분석하기 용이하게 정제 모듈 (필수)\n",
    "import pandas as pd                 # 데이터 분석 모듈\n",
    "\n",
    "response = requests.get('https://music.bugs.co.kr/chart')  # 분석할 웹 페이지 읽어오기\n",
    "soup = bs(response.text)                                   # 가져온 소스에 bs 정제\n",
    "# soup\n"
   ]
  },
  {
   "cell_type": "code",
   "execution_count": 43,
   "metadata": {},
   "outputs": [
    {
     "data": {
      "text/plain": [
       "104"
      ]
     },
     "execution_count": 43,
     "metadata": {},
     "output_type": "execute_result"
    }
   ],
   "source": [
    "len(soup.select('tr'))  # select은 태그들을 선택"
   ]
  },
  {
   "cell_type": "code",
   "execution_count": 44,
   "metadata": {},
   "outputs": [
    {
     "data": {
      "text/plain": [
       "103"
      ]
     },
     "execution_count": 44,
     "metadata": {},
     "output_type": "execute_result"
    }
   ],
   "source": [
    "len(soup.select('tbody > tr')) # 태그의 포함관계를 이용한다. '>'"
   ]
  },
  {
   "cell_type": "code",
   "execution_count": 45,
   "metadata": {},
   "outputs": [
    {
     "data": {
      "text/plain": [
       "103"
      ]
     },
     "execution_count": 45,
     "metadata": {},
     "output_type": "execute_result"
    }
   ],
   "source": [
    "len(soup.select('table > tbody > tr'))"
   ]
  },
  {
   "cell_type": "code",
   "execution_count": 46,
   "metadata": {},
   "outputs": [
    {
     "data": {
      "text/plain": [
       "100"
      ]
     },
     "execution_count": 46,
     "metadata": {},
     "output_type": "execute_result"
    }
   ],
   "source": [
    "len(soup.select('table.list.trackList.byChart > tbody > tr')) \n",
    "# class 는 .으로 나타낸다. 클라스명의 띄어쓰기도 .으로 나타낸다. "
   ]
  },
  {
   "cell_type": "code",
   "execution_count": null,
   "metadata": {},
   "outputs": [],
   "source": [
    "# 원하는 데이터들을 선택할때는 css html 태그를 이용한다. \n",
    "# 태그의 포함 범위를 확장해나가면서 골라낸다. "
   ]
  },
  {
   "cell_type": "code",
   "execution_count": 47,
   "metadata": {},
   "outputs": [],
   "source": [
    "songs = soup.select('table.list.trackList.byChart > tbody > tr')\n",
    "# 전체 코드에서 정확하게 100곡의 정보만 추출"
   ]
  },
  {
   "cell_type": "code",
   "execution_count": 49,
   "metadata": {},
   "outputs": [],
   "source": [
    "song = songs[0]\n",
    "# 100곡의 정보 중에서 1곡의 정보만 추출\n"
   ]
  },
  {
   "cell_type": "code",
   "execution_count": 50,
   "metadata": {},
   "outputs": [
    {
     "data": {
      "text/plain": [
       "11"
      ]
     },
     "execution_count": 50,
     "metadata": {},
     "output_type": "execute_result"
    }
   ],
   "source": [
    "len(song.select('a'))\n",
    "# 코드를 확인해 보면 노래제목이 'a'태그에 들어가 있으므로 갯수를 먼저 확인해 보았더니 11개가 보였다. "
   ]
  },
  {
   "cell_type": "code",
   "execution_count": 51,
   "metadata": {},
   "outputs": [
    {
     "data": {
      "text/plain": [
       "2"
      ]
     },
     "execution_count": 51,
     "metadata": {},
     "output_type": "execute_result"
    }
   ],
   "source": [
    "len(song.select('p > a'))\n",
    "\n",
    "# 따라서 a태그를 포함하고 있는 p 태그까지 넣어서 조회했더니 2개로 줄었다. "
   ]
  },
  {
   "cell_type": "code",
   "execution_count": 52,
   "metadata": {},
   "outputs": [
    {
     "data": {
      "text/plain": [
       "[<a adultcheckval=\"1\" aria-label=\"새창\" href=\"javascript:;\" onclick=\"bugs.wiselog.area('list_tr_09_chart');bugs.music.listen('6155955',true);\n",
       " \" title=\"LOVE DIVE\">LOVE DIVE</a>,\n",
       " <a href=\"https://music.bugs.co.kr/artist/20148657?wl_ref=list_tr_10_chart\" onclick=\"\n",
       " \" title=\"IVE (아이브)\">IVE (아이브)</a>]"
      ]
     },
     "execution_count": 52,
     "metadata": {},
     "output_type": "execute_result"
    }
   ],
   "source": [
    "song.select('p > a')\n",
    "\n",
    "# 해당 태그를 포함하고 있는 태그로 확장시켜 조회한다. "
   ]
  },
  {
   "cell_type": "code",
   "execution_count": 53,
   "metadata": {},
   "outputs": [
    {
     "data": {
      "text/plain": [
       "[<a adultcheckval=\"1\" aria-label=\"새창\" href=\"javascript:;\" onclick=\"bugs.wiselog.area('list_tr_09_chart');bugs.music.listen('6155955',true);\n",
       " \" title=\"LOVE DIVE\">LOVE DIVE</a>]"
      ]
     },
     "execution_count": 53,
     "metadata": {},
     "output_type": "execute_result"
    }
   ],
   "source": [
    "song.select('p.title > a')\n",
    "# p 태그중 클래스명이 title 아래의 a 태그 값을 추출"
   ]
  },
  {
   "cell_type": "code",
   "execution_count": 54,
   "metadata": {},
   "outputs": [
    {
     "data": {
      "text/plain": [
       "'LOVE DIVE'"
      ]
     },
     "execution_count": 54,
     "metadata": {},
     "output_type": "execute_result"
    }
   ],
   "source": [
    "song.select('p.title > a')[0].text\n",
    "\n",
    "# 하나 밖에 없지만 [0] 인덱스 0은 문법으로 반드시 넣어야 한다. "
   ]
  },
  {
   "cell_type": "code",
   "execution_count": 55,
   "metadata": {},
   "outputs": [
    {
     "data": {
      "text/plain": [
       "'IVE (아이브)'"
      ]
     },
     "execution_count": 55,
     "metadata": {},
     "output_type": "execute_result"
    }
   ],
   "source": [
    "# 가수명 추출\n",
    "\n",
    "song.select('p.artist > a')[0].text\n"
   ]
  },
  {
   "cell_type": "code",
   "execution_count": 58,
   "metadata": {},
   "outputs": [
    {
     "data": {
      "text/plain": [
       "'1'"
      ]
     },
     "execution_count": 58,
     "metadata": {},
     "output_type": "execute_result"
    }
   ],
   "source": [
    "# 순위 추출\n",
    "\n",
    "song.select('strong')[0].text\n"
   ]
  },
  {
   "cell_type": "code",
   "execution_count": 64,
   "metadata": {},
   "outputs": [
    {
     "ename": "ModuleNotFoundError",
     "evalue": "No module named 'openpyxl'",
     "output_type": "error",
     "traceback": [
      "\u001b[1;31m---------------------------------------------------------------------------\u001b[0m",
      "\u001b[1;31mModuleNotFoundError\u001b[0m                       Traceback (most recent call last)",
      "\u001b[1;32m<ipython-input-64-dbe80f83d5ca>\u001b[0m in \u001b[0;36m<module>\u001b[1;34m\u001b[0m\n\u001b[0;32m     12\u001b[0m \u001b[0mdf\u001b[0m \u001b[1;33m=\u001b[0m \u001b[0mpd\u001b[0m\u001b[1;33m.\u001b[0m\u001b[0mDataFrame\u001b[0m\u001b[1;33m(\u001b[0m\u001b[0msong_data\u001b[0m\u001b[1;33m,\u001b[0m \u001b[0mcolumns\u001b[0m\u001b[1;33m=\u001b[0m\u001b[1;33m[\u001b[0m\u001b[1;34m'차트명'\u001b[0m\u001b[1;33m,\u001b[0m\u001b[1;34m'순위'\u001b[0m\u001b[1;33m,\u001b[0m\u001b[1;34m'타이틀'\u001b[0m\u001b[1;33m,\u001b[0m\u001b[1;34m'가수'\u001b[0m\u001b[1;33m]\u001b[0m\u001b[1;33m)\u001b[0m\u001b[1;33m\u001b[0m\u001b[1;33m\u001b[0m\u001b[0m\n\u001b[0;32m     13\u001b[0m \u001b[1;33m\u001b[0m\u001b[0m\n\u001b[1;32m---> 14\u001b[1;33m \u001b[0mdf\u001b[0m\u001b[1;33m.\u001b[0m\u001b[0mto_excel\u001b[0m\u001b[1;33m(\u001b[0m\u001b[1;34m'bugs.xlsx'\u001b[0m\u001b[1;33m,\u001b[0m \u001b[0mindex\u001b[0m\u001b[1;33m=\u001b[0m\u001b[1;32mFalse\u001b[0m\u001b[1;33m)\u001b[0m\u001b[1;33m\u001b[0m\u001b[1;33m\u001b[0m\u001b[0m\n\u001b[0m",
      "\u001b[1;32mc:\\Python\\lib\\site-packages\\pandas\\core\\generic.py\u001b[0m in \u001b[0;36mto_excel\u001b[1;34m(self, excel_writer, sheet_name, na_rep, float_format, columns, header, index, index_label, startrow, startcol, engine, merge_cells, encoding, inf_rep, verbose, freeze_panes)\u001b[0m\n\u001b[0;32m   2030\u001b[0m             \u001b[0mstartcol\u001b[0m\u001b[1;33m=\u001b[0m\u001b[0mstartcol\u001b[0m\u001b[1;33m,\u001b[0m\u001b[1;33m\u001b[0m\u001b[1;33m\u001b[0m\u001b[0m\n\u001b[0;32m   2031\u001b[0m             \u001b[0mfreeze_panes\u001b[0m\u001b[1;33m=\u001b[0m\u001b[0mfreeze_panes\u001b[0m\u001b[1;33m,\u001b[0m\u001b[1;33m\u001b[0m\u001b[1;33m\u001b[0m\u001b[0m\n\u001b[1;32m-> 2032\u001b[1;33m             \u001b[0mengine\u001b[0m\u001b[1;33m=\u001b[0m\u001b[0mengine\u001b[0m\u001b[1;33m,\u001b[0m\u001b[1;33m\u001b[0m\u001b[1;33m\u001b[0m\u001b[0m\n\u001b[0m\u001b[0;32m   2033\u001b[0m         )\n\u001b[0;32m   2034\u001b[0m \u001b[1;33m\u001b[0m\u001b[0m\n",
      "\u001b[1;32mc:\\Python\\lib\\site-packages\\pandas\\io\\formats\\excel.py\u001b[0m in \u001b[0;36mwrite\u001b[1;34m(self, writer, sheet_name, startrow, startcol, freeze_panes, engine)\u001b[0m\n\u001b[0;32m    728\u001b[0m             \u001b[0mneed_save\u001b[0m \u001b[1;33m=\u001b[0m \u001b[1;32mFalse\u001b[0m\u001b[1;33m\u001b[0m\u001b[1;33m\u001b[0m\u001b[0m\n\u001b[0;32m    729\u001b[0m         \u001b[1;32melse\u001b[0m\u001b[1;33m:\u001b[0m\u001b[1;33m\u001b[0m\u001b[1;33m\u001b[0m\u001b[0m\n\u001b[1;32m--> 730\u001b[1;33m             \u001b[0mwriter\u001b[0m \u001b[1;33m=\u001b[0m \u001b[0mExcelWriter\u001b[0m\u001b[1;33m(\u001b[0m\u001b[0mstringify_path\u001b[0m\u001b[1;33m(\u001b[0m\u001b[0mwriter\u001b[0m\u001b[1;33m)\u001b[0m\u001b[1;33m,\u001b[0m \u001b[0mengine\u001b[0m\u001b[1;33m=\u001b[0m\u001b[0mengine\u001b[0m\u001b[1;33m)\u001b[0m\u001b[1;33m\u001b[0m\u001b[1;33m\u001b[0m\u001b[0m\n\u001b[0m\u001b[0;32m    731\u001b[0m             \u001b[0mneed_save\u001b[0m \u001b[1;33m=\u001b[0m \u001b[1;32mTrue\u001b[0m\u001b[1;33m\u001b[0m\u001b[1;33m\u001b[0m\u001b[0m\n\u001b[0;32m    732\u001b[0m \u001b[1;33m\u001b[0m\u001b[0m\n",
      "\u001b[1;32mc:\\Python\\lib\\site-packages\\pandas\\io\\excel\\_openpyxl.py\u001b[0m in \u001b[0;36m__init__\u001b[1;34m(self, path, engine, mode, **engine_kwargs)\u001b[0m\n\u001b[0;32m     16\u001b[0m     \u001b[1;32mdef\u001b[0m \u001b[0m__init__\u001b[0m\u001b[1;33m(\u001b[0m\u001b[0mself\u001b[0m\u001b[1;33m,\u001b[0m \u001b[0mpath\u001b[0m\u001b[1;33m,\u001b[0m \u001b[0mengine\u001b[0m\u001b[1;33m=\u001b[0m\u001b[1;32mNone\u001b[0m\u001b[1;33m,\u001b[0m \u001b[0mmode\u001b[0m\u001b[1;33m=\u001b[0m\u001b[1;34m\"w\"\u001b[0m\u001b[1;33m,\u001b[0m \u001b[1;33m**\u001b[0m\u001b[0mengine_kwargs\u001b[0m\u001b[1;33m)\u001b[0m\u001b[1;33m:\u001b[0m\u001b[1;33m\u001b[0m\u001b[1;33m\u001b[0m\u001b[0m\n\u001b[0;32m     17\u001b[0m         \u001b[1;31m# Use the openpyxl module as the Excel writer.\u001b[0m\u001b[1;33m\u001b[0m\u001b[1;33m\u001b[0m\u001b[1;33m\u001b[0m\u001b[0m\n\u001b[1;32m---> 18\u001b[1;33m         \u001b[1;32mfrom\u001b[0m \u001b[0mopenpyxl\u001b[0m\u001b[1;33m.\u001b[0m\u001b[0mworkbook\u001b[0m \u001b[1;32mimport\u001b[0m \u001b[0mWorkbook\u001b[0m\u001b[1;33m\u001b[0m\u001b[1;33m\u001b[0m\u001b[0m\n\u001b[0m\u001b[0;32m     19\u001b[0m \u001b[1;33m\u001b[0m\u001b[0m\n\u001b[0;32m     20\u001b[0m         \u001b[0msuper\u001b[0m\u001b[1;33m(\u001b[0m\u001b[1;33m)\u001b[0m\u001b[1;33m.\u001b[0m\u001b[0m__init__\u001b[0m\u001b[1;33m(\u001b[0m\u001b[0mpath\u001b[0m\u001b[1;33m,\u001b[0m \u001b[0mmode\u001b[0m\u001b[1;33m=\u001b[0m\u001b[0mmode\u001b[0m\u001b[1;33m,\u001b[0m \u001b[1;33m**\u001b[0m\u001b[0mengine_kwargs\u001b[0m\u001b[1;33m)\u001b[0m\u001b[1;33m\u001b[0m\u001b[1;33m\u001b[0m\u001b[0m\n",
      "\u001b[1;31mModuleNotFoundError\u001b[0m: No module named 'openpyxl'"
     ]
    }
   ],
   "source": [
    "song_data = []\n",
    "\n",
    "songs = soup.select('table.list.trackList.byChart > tbody > tr')\n",
    "\n",
    "for song in songs:\n",
    "    rank = song.select('strong')[0].text\n",
    "    title = song.select('p.title > a')[0].text\n",
    "    singer = song.select('p.artist > a')[0].text\n",
    "    song_data.append(['Bugs', rank, title, singer])\n",
    "\n",
    "\n",
    "df = pd.DataFrame(song_data, columns=['차트명','순위','타이틀','가수'])\n",
    "\n",
    "df.to_excel('bugs.xlsx', index=False)"
   ]
  },
  {
   "cell_type": "code",
   "execution_count": 5,
   "metadata": {},
   "outputs": [
    {
     "data": {
      "text/plain": []
     },
     "execution_count": 5,
     "metadata": {},
     "output_type": "execute_result"
    }
   ],
   "source": [
    "\n",
    "import requests                     # 파이썬으로 인터넷을 통해 웹페이지 연결 모듈\n",
    "from bs4 import BeautifulSoup as bs # 가져온 웹페이지를 분석하기 용이하게 정제 모듈 (필수)\n",
    "import pandas as pd                 # 데이터 분석 모듈\n",
    "\n",
    "response = requests.get('https://www.melon.com/chart/')  # 분석할 웹 페이지 읽어오기\n",
    "soup = bs(response.text)                                   # 가져온 소스에 bs 정제\n",
    "soup\n"
   ]
  }
 ],
 "metadata": {
  "interpreter": {
   "hash": "52634da84371cba311ea128a5ea7cdc41ff074b781779e754b270ff9f8153cee"
  },
  "kernelspec": {
   "display_name": "Python 3.6.8 64-bit",
   "language": "python",
   "name": "python3"
  },
  "language_info": {
   "codemirror_mode": {
    "name": "ipython",
    "version": 3
   },
   "file_extension": ".py",
   "mimetype": "text/x-python",
   "name": "python",
   "nbconvert_exporter": "python",
   "pygments_lexer": "ipython3",
   "version": "3.6.8"
  },
  "orig_nbformat": 4
 },
 "nbformat": 4,
 "nbformat_minor": 2
}
