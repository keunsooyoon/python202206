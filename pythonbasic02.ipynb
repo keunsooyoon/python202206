{
  "nbformat": 4,
  "nbformat_minor": 0,
  "metadata": {
    "colab": {
      "name": "pythonbasic02.ipynb",
      "provenance": [],
      "authorship_tag": "ABX9TyNr6OkOZtWJ6k1WbLG4besi",
      "include_colab_link": true
    },
    "kernelspec": {
      "name": "python3",
      "display_name": "Python 3"
    },
    "language_info": {
      "name": "python"
    }
  },
  "cells": [
    {
      "cell_type": "markdown",
      "metadata": {
        "id": "view-in-github",
        "colab_type": "text"
      },
      "source": [
        "<a href=\"https://colab.research.google.com/github/keunsooyoon/python202206/blob/main/pythonbasic02.ipynb\" target=\"_parent\"><img src=\"https://colab.research.google.com/assets/colab-badge.svg\" alt=\"Open In Colab\"/></a>"
      ]
    },
    {
      "cell_type": "code",
      "execution_count": 1,
      "metadata": {
        "colab": {
          "base_uri": "https://localhost:8080/",
          "height": 53
        },
        "id": "yRxBvlI5y8AV",
        "outputId": "0abda483-7bea-43a8-da8e-bd5b533dd75c"
      },
      "outputs": [
        {
          "name": "stdout",
          "output_type": "stream",
          "text": [
            "gfdsags\n"
          ]
        },
        {
          "output_type": "execute_result",
          "data": {
            "text/plain": [
              "'gfdsags'"
            ],
            "application/vnd.google.colaboratory.intrinsic+json": {
              "type": "string"
            }
          },
          "metadata": {},
          "execution_count": 1
        }
      ],
      "source": [
        "# input 입력\n",
        "\n",
        "input()"
      ]
    },
    {
      "cell_type": "code",
      "source": [
        "input('아이디를 입력하세요')"
      ],
      "metadata": {
        "colab": {
          "base_uri": "https://localhost:8080/",
          "height": 53
        },
        "id": "a84LWvBQ0aMy",
        "outputId": "117b3636-f096-4683-cb10-2a6d9343c506"
      },
      "execution_count": 3,
      "outputs": [
        {
          "name": "stdout",
          "output_type": "stream",
          "text": [
            "아이디를 입력하세요ㄹㅇㄴㅁㄹㅇㄴ\n"
          ]
        },
        {
          "output_type": "execute_result",
          "data": {
            "text/plain": [
              "'ㄹㅇㄴㅁㄹㅇㄴ'"
            ],
            "application/vnd.google.colaboratory.intrinsic+json": {
              "type": "string"
            }
          },
          "metadata": {},
          "execution_count": 3
        }
      ]
    },
    {
      "cell_type": "code",
      "source": [
        "id = input('아이디를 입력하세요')"
      ],
      "metadata": {
        "colab": {
          "base_uri": "https://localhost:8080/"
        },
        "id": "5wk8pOK10v0X",
        "outputId": "380c1e25-3857-40c7-a3e7-110ed99b5e1f"
      },
      "execution_count": 4,
      "outputs": [
        {
          "name": "stdout",
          "output_type": "stream",
          "text": [
            "아이디를 입력하세요fdsa\n"
          ]
        }
      ]
    },
    {
      "cell_type": "code",
      "source": [
        "id = input('아이디를 입력하세요')\n",
        "print(f'{id} 님 환영합니다.')"
      ],
      "metadata": {
        "colab": {
          "base_uri": "https://localhost:8080/"
        },
        "id": "rQqXHdM901Ex",
        "outputId": "6bfe9084-74d4-4e6f-8ea8-54accb250566"
      },
      "execution_count": 5,
      "outputs": [
        {
          "output_type": "stream",
          "name": "stdout",
          "text": [
            "아이디를 입력하세요456456\n",
            "456456 님 환영합니다.\n"
          ]
        }
      ]
    },
    {
      "cell_type": "code",
      "source": [
        "age = input('당신의 나이를 입력하세요')\n",
        "print(f'당신의 나이는 {age}입니다.')"
      ],
      "metadata": {
        "colab": {
          "base_uri": "https://localhost:8080/"
        },
        "id": "wUe6HxJb1G7e",
        "outputId": "21384f34-186b-4f81-a668-f648eeb78f4f"
      },
      "execution_count": 6,
      "outputs": [
        {
          "output_type": "stream",
          "name": "stdout",
          "text": [
            "당신의 나이를 입력하세요21\n",
            "당신의 나이는 21입니다.\n"
          ]
        }
      ]
    },
    {
      "cell_type": "code",
      "source": [
        "age = input('당신의 나이를 입력하세요')\n",
        "print(f'당신의 내년 나이는 {age+1}입니다.')\n",
        "\n",
        "# input 언제나 항상 입력받은 모든 데이터를 문자취급한다."
      ],
      "metadata": {
        "colab": {
          "base_uri": "https://localhost:8080/",
          "height": 207
        },
        "id": "3eYHFBQz1V7W",
        "outputId": "54a3c62f-6a1f-410e-8867-b65d164be7c2"
      },
      "execution_count": 7,
      "outputs": [
        {
          "name": "stdout",
          "output_type": "stream",
          "text": [
            "당신의 나이를 입력하세요21\n"
          ]
        },
        {
          "output_type": "error",
          "ename": "TypeError",
          "evalue": "ignored",
          "traceback": [
            "\u001b[0;31m---------------------------------------------------------------------------\u001b[0m",
            "\u001b[0;31mTypeError\u001b[0m                                 Traceback (most recent call last)",
            "\u001b[0;32m<ipython-input-7-e9bf37e9bb64>\u001b[0m in \u001b[0;36m<module>\u001b[0;34m()\u001b[0m\n\u001b[1;32m      1\u001b[0m \u001b[0mage\u001b[0m \u001b[0;34m=\u001b[0m \u001b[0minput\u001b[0m\u001b[0;34m(\u001b[0m\u001b[0;34m'당신의 나이를 입력하세요'\u001b[0m\u001b[0;34m)\u001b[0m\u001b[0;34m\u001b[0m\u001b[0;34m\u001b[0m\u001b[0m\n\u001b[0;32m----> 2\u001b[0;31m \u001b[0mprint\u001b[0m\u001b[0;34m(\u001b[0m\u001b[0;34mf'당신의 내년 나이는 {age+1}입니다.'\u001b[0m\u001b[0;34m)\u001b[0m\u001b[0;34m\u001b[0m\u001b[0;34m\u001b[0m\u001b[0m\n\u001b[0m",
            "\u001b[0;31mTypeError\u001b[0m: can only concatenate str (not \"int\") to str"
          ]
        }
      ]
    },
    {
      "cell_type": "code",
      "source": [
        "age = int(input('당신의 나이를 입력하세요'))\n",
        "print(type(age))\n",
        "print(f'당신의 내년 나이는 {age+1}입니다.')\n",
        "\n",
        "# 따라서 숫자로 사용을 하고자 할때는 형변환 casting 을 해주어야 계산이 가능해진다. "
      ],
      "metadata": {
        "colab": {
          "base_uri": "https://localhost:8080/"
        },
        "id": "89UUTQa91_Le",
        "outputId": "94d82a5c-7f2e-4218-e94e-4f57372f064d"
      },
      "execution_count": 9,
      "outputs": [
        {
          "output_type": "stream",
          "name": "stdout",
          "text": [
            "당신의 나이를 입력하세요21\n",
            "<class 'int'>\n",
            "당신의 내년 나이는 22입니다.\n"
          ]
        }
      ]
    },
    {
      "cell_type": "code",
      "source": [
        "# 컬렉션 list tuple dict set    \n",
        "\n",
        "# 여러개의 데이터를 담아두는 자료형\n",
        "\n",
        "# 리스트 list\n",
        "# 1. 리스트는 [] 를 사용하여 만든다. \n",
        "# 2. 리스트는 자료형을 혼합하여 저장할수 도 있다. (파이썬 장점이자 단점)\n",
        "# 3. 리스트는 인덱싱과 슬라이싱이 가능하다. \n",
        "# 4. 리스트에서는 삽입/삭제/수정이 가능하다. \n",
        "\n",
        "#리스트를 사용하면 2,4,6,8,10... 여러 데이터의 모음을 간단하게 표현할수 있다. \n",
        "\n",
        "num = [2,4,6,8,10]\n",
        "print(num)\n",
        "\n",
        "li1 = [1,2,'영희','철수']\n",
        "print(li1)\n",
        "\n"
      ],
      "metadata": {
        "colab": {
          "base_uri": "https://localhost:8080/"
        },
        "id": "qOuVuBz52pgf",
        "outputId": "163f7862-ca1e-464e-a7ea-ab9a7b020629"
      },
      "execution_count": 11,
      "outputs": [
        {
          "output_type": "stream",
          "name": "stdout",
          "text": [
            "[2, 4, 6, 8, 10]\n",
            "[1, 2, '영희', '철수']\n"
          ]
        }
      ]
    },
    {
      "cell_type": "code",
      "source": [
        ""
      ],
      "metadata": {
        "id": "A3sLjgay8id9"
      },
      "execution_count": null,
      "outputs": []
    },
    {
      "cell_type": "code",
      "source": [
        "# 리스트에서의 인덱싱과 슬라이싱\n",
        "\n",
        "num = [2,4,6,8,10]\n",
        "print(num[-1])"
      ],
      "metadata": {
        "colab": {
          "base_uri": "https://localhost:8080/"
        },
        "id": "4NK6CoQX7z2A",
        "outputId": "f3872118-ffc7-40a8-cb2e-b47a188ed32d"
      },
      "execution_count": 13,
      "outputs": [
        {
          "output_type": "stream",
          "name": "stdout",
          "text": [
            "10\n"
          ]
        }
      ]
    },
    {
      "cell_type": "code",
      "source": [
        "print(num[0] + num[-1])"
      ],
      "metadata": {
        "colab": {
          "base_uri": "https://localhost:8080/"
        },
        "id": "G1jzTJUl8i7f",
        "outputId": "3ef6898c-3850-4816-aa9f-1a75da645dba"
      },
      "execution_count": 14,
      "outputs": [
        {
          "output_type": "stream",
          "name": "stdout",
          "text": [
            "12\n"
          ]
        }
      ]
    },
    {
      "cell_type": "code",
      "source": [
        "li1 = [1,2,'a','b',[1,2,3]]\n",
        "print(li1[-1][0])"
      ],
      "metadata": {
        "colab": {
          "base_uri": "https://localhost:8080/"
        },
        "id": "enfYLmBd8wVS",
        "outputId": "db98ac53-adb7-4576-e4b5-cf92d1652499"
      },
      "execution_count": 17,
      "outputs": [
        {
          "output_type": "stream",
          "name": "stdout",
          "text": [
            "1\n"
          ]
        }
      ]
    },
    {
      "cell_type": "code",
      "source": [
        "# 리스트에서의 슬라이싱\n",
        "\n",
        "num = [2,4,6,8,10]\n",
        "print(num[0:3])  # [start:stop(:step)]  스탭은 생략하면 1씩 증가 , stop 미만\n",
        "print(num[:3])   # 시작을 생략하면 처음부터이고 끝을 생략하면 마지막 요소까지"
      ],
      "metadata": {
        "colab": {
          "base_uri": "https://localhost:8080/"
        },
        "id": "9eGmsK5U9REK",
        "outputId": "bcfe6cfb-83f4-4850-e8dd-2c63e2248b45"
      },
      "execution_count": 20,
      "outputs": [
        {
          "output_type": "stream",
          "name": "stdout",
          "text": [
            "[2, 4, 6]\n",
            "[2, 4, 6]\n"
          ]
        }
      ]
    },
    {
      "cell_type": "code",
      "source": [
        "# 리스트에서의 연산\n",
        "\n",
        "a = [1,2,3]\n",
        "print(a * 3)"
      ],
      "metadata": {
        "colab": {
          "base_uri": "https://localhost:8080/"
        },
        "id": "VEVKLki5-Ot6",
        "outputId": "f2bfae25-9275-4c10-d282-6bba7786b7b2"
      },
      "execution_count": 21,
      "outputs": [
        {
          "output_type": "stream",
          "name": "stdout",
          "text": [
            "[1, 2, 3, 1, 2, 3, 1, 2, 3]\n"
          ]
        }
      ]
    },
    {
      "cell_type": "code",
      "source": [
        "# 리스트의 길이(갯수)\n",
        "\n",
        "num = [2,4,6,8,10]\n",
        "print(len(num))"
      ],
      "metadata": {
        "colab": {
          "base_uri": "https://localhost:8080/"
        },
        "id": "67R0TSWu-j4G",
        "outputId": "1b22ee8f-48f5-4d8f-bd10-e630839baeee"
      },
      "execution_count": 22,
      "outputs": [
        {
          "output_type": "stream",
          "name": "stdout",
          "text": [
            "5\n"
          ]
        }
      ]
    },
    {
      "cell_type": "code",
      "source": [
        "# 4. 리스트에서는 삽입/삭제/수정이 가능하다. \n",
        "\n",
        "# 수정\n",
        "num = [2,4,6,8,10]\n",
        "\n",
        "num[0] = 0\n",
        "print(num)\n",
        "\n",
        "\n",
        "# 삭제\n",
        "del num[0]\n",
        "print(num)\n",
        "\n",
        "del num[2:]  # 슬라이싱 기법을 사용하여 여러 요소 한번에 삭제\n",
        "print(num)"
      ],
      "metadata": {
        "colab": {
          "base_uri": "https://localhost:8080/"
        },
        "id": "2ekSqrZv-5Hg",
        "outputId": "b1590c34-aec9-4825-be15-c9e67fe6db32"
      },
      "execution_count": 26,
      "outputs": [
        {
          "output_type": "stream",
          "name": "stdout",
          "text": [
            "[0, 4, 6, 8, 10]\n",
            "[4, 6, 8, 10]\n",
            "[4, 6]\n"
          ]
        }
      ]
    },
    {
      "cell_type": "code",
      "source": [
        "\n",
        "# 리스트 삽입 append\n",
        "\n",
        "a = [1,2,3]\n",
        "print(a)\n",
        "\n",
        "a.append(4)\n",
        "print(a)"
      ],
      "metadata": {
        "colab": {
          "base_uri": "https://localhost:8080/"
        },
        "id": "ny3Ju0KBAJPq",
        "outputId": "9d35c976-ff08-4ae0-efd0-a31d41cb391c"
      },
      "execution_count": 28,
      "outputs": [
        {
          "output_type": "stream",
          "name": "stdout",
          "text": [
            "[1, 2, 3]\n",
            "[1, 2, 3, 4]\n"
          ]
        }
      ]
    }
  ]
}